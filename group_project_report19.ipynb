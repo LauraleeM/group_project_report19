{
 "cells": [
  {
   "cell_type": "code",
   "execution_count": 1,
   "id": "febf2b8b-5268-45a2-85f4-5ecef5c2ee3d",
   "metadata": {},
   "outputs": [
    {
     "name": "stderr",
     "output_type": "stream",
     "text": [
      "── \u001b[1mAttaching packages\u001b[22m ─────────────────────────────────────── tidyverse 1.3.1 ──\n",
      "\n",
      "\u001b[32m✔\u001b[39m \u001b[34mggplot2\u001b[39m 3.3.6     \u001b[32m✔\u001b[39m \u001b[34mpurrr  \u001b[39m 0.3.4\n",
      "\u001b[32m✔\u001b[39m \u001b[34mtibble \u001b[39m 3.1.7     \u001b[32m✔\u001b[39m \u001b[34mdplyr  \u001b[39m 1.0.9\n",
      "\u001b[32m✔\u001b[39m \u001b[34mtidyr  \u001b[39m 1.2.0     \u001b[32m✔\u001b[39m \u001b[34mstringr\u001b[39m 1.4.0\n",
      "\u001b[32m✔\u001b[39m \u001b[34mreadr  \u001b[39m 2.1.2     \u001b[32m✔\u001b[39m \u001b[34mforcats\u001b[39m 0.5.1\n",
      "\n",
      "── \u001b[1mConflicts\u001b[22m ────────────────────────────────────────── tidyverse_conflicts() ──\n",
      "\u001b[31m✖\u001b[39m \u001b[34mdplyr\u001b[39m::\u001b[32mfilter()\u001b[39m masks \u001b[34mstats\u001b[39m::filter()\n",
      "\u001b[31m✖\u001b[39m \u001b[34mdplyr\u001b[39m::\u001b[32mlag()\u001b[39m    masks \u001b[34mstats\u001b[39m::lag()\n",
      "\n",
      "── \u001b[1mAttaching packages\u001b[22m ────────────────────────────────────── tidymodels 1.0.0 ──\n",
      "\n",
      "\u001b[32m✔\u001b[39m \u001b[34mbroom       \u001b[39m 1.0.0     \u001b[32m✔\u001b[39m \u001b[34mrsample     \u001b[39m 1.0.0\n",
      "\u001b[32m✔\u001b[39m \u001b[34mdials       \u001b[39m 1.0.0     \u001b[32m✔\u001b[39m \u001b[34mtune        \u001b[39m 1.0.0\n",
      "\u001b[32m✔\u001b[39m \u001b[34minfer       \u001b[39m 1.0.2     \u001b[32m✔\u001b[39m \u001b[34mworkflows   \u001b[39m 1.0.0\n",
      "\u001b[32m✔\u001b[39m \u001b[34mmodeldata   \u001b[39m 1.0.0     \u001b[32m✔\u001b[39m \u001b[34mworkflowsets\u001b[39m 1.0.0\n",
      "\u001b[32m✔\u001b[39m \u001b[34mparsnip     \u001b[39m 1.0.0     \u001b[32m✔\u001b[39m \u001b[34myardstick   \u001b[39m 1.0.0\n",
      "\u001b[32m✔\u001b[39m \u001b[34mrecipes     \u001b[39m 1.0.1     \n",
      "\n",
      "── \u001b[1mConflicts\u001b[22m ───────────────────────────────────────── tidymodels_conflicts() ──\n",
      "\u001b[31m✖\u001b[39m \u001b[34mscales\u001b[39m::\u001b[32mdiscard()\u001b[39m masks \u001b[34mpurrr\u001b[39m::discard()\n",
      "\u001b[31m✖\u001b[39m \u001b[34mdplyr\u001b[39m::\u001b[32mfilter()\u001b[39m   masks \u001b[34mstats\u001b[39m::filter()\n",
      "\u001b[31m✖\u001b[39m \u001b[34mrecipes\u001b[39m::\u001b[32mfixed()\u001b[39m  masks \u001b[34mstringr\u001b[39m::fixed()\n",
      "\u001b[31m✖\u001b[39m \u001b[34mdplyr\u001b[39m::\u001b[32mlag()\u001b[39m      masks \u001b[34mstats\u001b[39m::lag()\n",
      "\u001b[31m✖\u001b[39m \u001b[34myardstick\u001b[39m::\u001b[32mspec()\u001b[39m masks \u001b[34mreadr\u001b[39m::spec()\n",
      "\u001b[31m✖\u001b[39m \u001b[34mrecipes\u001b[39m::\u001b[32mstep()\u001b[39m   masks \u001b[34mstats\u001b[39m::step()\n",
      "\u001b[34m•\u001b[39m Use suppressPackageStartupMessages() to eliminate package startup messages\n",
      "\n",
      "Registered S3 method overwritten by 'GGally':\n",
      "  method from   \n",
      "  +.gg   ggplot2\n",
      "\n"
     ]
    }
   ],
   "source": [
    "library(tidyverse)\n",
    "library(tidymodels)\n",
    "library(repr)\n",
    "library(readxl)\n",
    "options(repr.matrix.max.rows = 6)\n",
    "library(GGally)\n",
    "library(ISLR)"
   ]
  },
  {
   "cell_type": "code",
   "execution_count": 2,
   "id": "6da990f5-8d7d-4bd9-a84f-f505f8c8d9c2",
   "metadata": {},
   "outputs": [],
   "source": [
    "download.file(\"https://archive.ics.uci.edu/ml/machine-learning-databases/heart-disease/processed.cleveland.data\", destfile = \"cleveland_data\")"
   ]
  },
  {
   "cell_type": "code",
   "execution_count": 20,
   "id": "21ed6d83-fb8c-424e-8677-f39aa214d60b",
   "metadata": {},
   "outputs": [
    {
     "name": "stderr",
     "output_type": "stream",
     "text": [
      "\u001b[1mRows: \u001b[22m\u001b[34m283\u001b[39m \u001b[1mColumns: \u001b[22m\u001b[34m14\u001b[39m\n",
      "\u001b[36m──\u001b[39m \u001b[1mColumn specification\u001b[22m \u001b[36m────────────────────────────────────────────────────────\u001b[39m\n",
      "\u001b[1mDelimiter:\u001b[22m \",\"\n",
      "\u001b[31mchr\u001b[39m  (2): X12, X13\n",
      "\u001b[32mdbl\u001b[39m (12): X1, X2, X3, X4, X5, X6, X7, X8, X9, X10, X11, X14\n",
      "\n",
      "\u001b[36mℹ\u001b[39m Use `spec()` to retrieve the full column specification for this data.\n",
      "\u001b[36mℹ\u001b[39m Specify the column types or set `show_col_types = FALSE` to quiet this message.\n"
     ]
    },
    {
     "data": {
      "text/html": [
       "<table class=\"dataframe\">\n",
       "<caption>A spec_tbl_df: 283 × 14</caption>\n",
       "<thead>\n",
       "\t<tr><th scope=col>X1</th><th scope=col>X2</th><th scope=col>X3</th><th scope=col>X4</th><th scope=col>X5</th><th scope=col>X6</th><th scope=col>X7</th><th scope=col>X8</th><th scope=col>X9</th><th scope=col>X10</th><th scope=col>X11</th><th scope=col>X12</th><th scope=col>X13</th><th scope=col>X14</th></tr>\n",
       "\t<tr><th scope=col>&lt;dbl&gt;</th><th scope=col>&lt;dbl&gt;</th><th scope=col>&lt;dbl&gt;</th><th scope=col>&lt;dbl&gt;</th><th scope=col>&lt;dbl&gt;</th><th scope=col>&lt;dbl&gt;</th><th scope=col>&lt;dbl&gt;</th><th scope=col>&lt;dbl&gt;</th><th scope=col>&lt;dbl&gt;</th><th scope=col>&lt;dbl&gt;</th><th scope=col>&lt;dbl&gt;</th><th scope=col>&lt;chr&gt;</th><th scope=col>&lt;chr&gt;</th><th scope=col>&lt;dbl&gt;</th></tr>\n",
       "</thead>\n",
       "<tbody>\n",
       "\t<tr><td>64</td><td>1</td><td>1</td><td>110</td><td>211</td><td>0</td><td>2</td><td>144</td><td>1</td><td>1.8</td><td>2</td><td>0.0</td><td>3.0</td><td>0</td></tr>\n",
       "\t<tr><td>58</td><td>0</td><td>1</td><td>150</td><td>283</td><td>1</td><td>2</td><td>162</td><td>0</td><td>1.0</td><td>1</td><td>0.0</td><td>3.0</td><td>0</td></tr>\n",
       "\t<tr><td>58</td><td>1</td><td>2</td><td>120</td><td>284</td><td>0</td><td>2</td><td>160</td><td>0</td><td>1.8</td><td>2</td><td>0.0</td><td>3.0</td><td>1</td></tr>\n",
       "\t<tr><td>⋮</td><td>⋮</td><td>⋮</td><td>⋮</td><td>⋮</td><td>⋮</td><td>⋮</td><td>⋮</td><td>⋮</td><td>⋮</td><td>⋮</td><td>⋮</td><td>⋮</td><td>⋮</td></tr>\n",
       "\t<tr><td>57</td><td>1</td><td>4</td><td>130</td><td>131</td><td>0</td><td>0</td><td>115</td><td>1</td><td>1.2</td><td>2</td><td>1.0</td><td>7.0</td><td>3</td></tr>\n",
       "\t<tr><td>57</td><td>0</td><td>2</td><td>130</td><td>236</td><td>0</td><td>2</td><td>174</td><td>0</td><td>0.0</td><td>2</td><td>1.0</td><td>3.0</td><td>1</td></tr>\n",
       "\t<tr><td>38</td><td>1</td><td>3</td><td>138</td><td>175</td><td>0</td><td>0</td><td>173</td><td>0</td><td>0.0</td><td>1</td><td>?  </td><td>3.0</td><td>0</td></tr>\n",
       "</tbody>\n",
       "</table>\n"
      ],
      "text/latex": [
       "A spec\\_tbl\\_df: 283 × 14\n",
       "\\begin{tabular}{llllllllllllll}\n",
       " X1 & X2 & X3 & X4 & X5 & X6 & X7 & X8 & X9 & X10 & X11 & X12 & X13 & X14\\\\\n",
       " <dbl> & <dbl> & <dbl> & <dbl> & <dbl> & <dbl> & <dbl> & <dbl> & <dbl> & <dbl> & <dbl> & <chr> & <chr> & <dbl>\\\\\n",
       "\\hline\n",
       "\t 64 & 1 & 1 & 110 & 211 & 0 & 2 & 144 & 1 & 1.8 & 2 & 0.0 & 3.0 & 0\\\\\n",
       "\t 58 & 0 & 1 & 150 & 283 & 1 & 2 & 162 & 0 & 1.0 & 1 & 0.0 & 3.0 & 0\\\\\n",
       "\t 58 & 1 & 2 & 120 & 284 & 0 & 2 & 160 & 0 & 1.8 & 2 & 0.0 & 3.0 & 1\\\\\n",
       "\t ⋮ & ⋮ & ⋮ & ⋮ & ⋮ & ⋮ & ⋮ & ⋮ & ⋮ & ⋮ & ⋮ & ⋮ & ⋮ & ⋮\\\\\n",
       "\t 57 & 1 & 4 & 130 & 131 & 0 & 0 & 115 & 1 & 1.2 & 2 & 1.0 & 7.0 & 3\\\\\n",
       "\t 57 & 0 & 2 & 130 & 236 & 0 & 2 & 174 & 0 & 0.0 & 2 & 1.0 & 3.0 & 1\\\\\n",
       "\t 38 & 1 & 3 & 138 & 175 & 0 & 0 & 173 & 0 & 0.0 & 1 & ?   & 3.0 & 0\\\\\n",
       "\\end{tabular}\n"
      ],
      "text/markdown": [
       "\n",
       "A spec_tbl_df: 283 × 14\n",
       "\n",
       "| X1 &lt;dbl&gt; | X2 &lt;dbl&gt; | X3 &lt;dbl&gt; | X4 &lt;dbl&gt; | X5 &lt;dbl&gt; | X6 &lt;dbl&gt; | X7 &lt;dbl&gt; | X8 &lt;dbl&gt; | X9 &lt;dbl&gt; | X10 &lt;dbl&gt; | X11 &lt;dbl&gt; | X12 &lt;chr&gt; | X13 &lt;chr&gt; | X14 &lt;dbl&gt; |\n",
       "|---|---|---|---|---|---|---|---|---|---|---|---|---|---|\n",
       "| 64 | 1 | 1 | 110 | 211 | 0 | 2 | 144 | 1 | 1.8 | 2 | 0.0 | 3.0 | 0 |\n",
       "| 58 | 0 | 1 | 150 | 283 | 1 | 2 | 162 | 0 | 1.0 | 1 | 0.0 | 3.0 | 0 |\n",
       "| 58 | 1 | 2 | 120 | 284 | 0 | 2 | 160 | 0 | 1.8 | 2 | 0.0 | 3.0 | 1 |\n",
       "| ⋮ | ⋮ | ⋮ | ⋮ | ⋮ | ⋮ | ⋮ | ⋮ | ⋮ | ⋮ | ⋮ | ⋮ | ⋮ | ⋮ |\n",
       "| 57 | 1 | 4 | 130 | 131 | 0 | 0 | 115 | 1 | 1.2 | 2 | 1.0 | 7.0 | 3 |\n",
       "| 57 | 0 | 2 | 130 | 236 | 0 | 2 | 174 | 0 | 0.0 | 2 | 1.0 | 3.0 | 1 |\n",
       "| 38 | 1 | 3 | 138 | 175 | 0 | 0 | 173 | 0 | 0.0 | 1 | ?   | 3.0 | 0 |\n",
       "\n"
      ],
      "text/plain": [
       "    X1 X2 X3 X4  X5  X6 X7 X8  X9 X10 X11 X12 X13 X14\n",
       "1   64 1  1  110 211 0  2  144 1  1.8 2   0.0 3.0 0  \n",
       "2   58 0  1  150 283 1  2  162 0  1.0 1   0.0 3.0 0  \n",
       "3   58 1  2  120 284 0  2  160 0  1.8 2   0.0 3.0 1  \n",
       "⋮   ⋮  ⋮  ⋮  ⋮   ⋮   ⋮  ⋮  ⋮   ⋮  ⋮   ⋮   ⋮   ⋮   ⋮  \n",
       "281 57 1  4  130 131 0  0  115 1  1.2 2   1.0 7.0 3  \n",
       "282 57 0  2  130 236 0  2  174 0  0.0 2   1.0 3.0 1  \n",
       "283 38 1  3  138 175 0  0  173 0  0.0 1   ?   3.0 0  "
      ]
     },
     "metadata": {},
     "output_type": "display_data"
    }
   ],
   "source": [
    "heart_disease_data <- read_delim(\"cleveland_data\", col_names = FALSE, skip=20, delim= \",\")\n",
    "heart_disease_data"
   ]
  },
  {
   "cell_type": "code",
   "execution_count": 21,
   "id": "13a4d987-57c7-4f88-b9ae-b3438481e5b5",
   "metadata": {},
   "outputs": [
    {
     "data": {
      "text/html": [
       "<table class=\"dataframe\">\n",
       "<caption>A tibble: 283 × 14</caption>\n",
       "<thead>\n",
       "\t<tr><th scope=col>age</th><th scope=col>sex</th><th scope=col>chest_pain</th><th scope=col>resting_bp</th><th scope=col>cholesterol</th><th scope=col>fasting_blood_sugar</th><th scope=col>resting_electro</th><th scope=col>max_hr</th><th scope=col>ex_angina</th><th scope=col>oldpeak</th><th scope=col>slope</th><th scope=col>ca</th><th scope=col>thal</th><th scope=col>num</th></tr>\n",
       "\t<tr><th scope=col>&lt;dbl&gt;</th><th scope=col>&lt;dbl&gt;</th><th scope=col>&lt;dbl&gt;</th><th scope=col>&lt;dbl&gt;</th><th scope=col>&lt;dbl&gt;</th><th scope=col>&lt;chr&gt;</th><th scope=col>&lt;dbl&gt;</th><th scope=col>&lt;dbl&gt;</th><th scope=col>&lt;dbl&gt;</th><th scope=col>&lt;dbl&gt;</th><th scope=col>&lt;dbl&gt;</th><th scope=col>&lt;chr&gt;</th><th scope=col>&lt;chr&gt;</th><th scope=col>&lt;fct&gt;</th></tr>\n",
       "</thead>\n",
       "<tbody>\n",
       "\t<tr><td>64</td><td>1</td><td>1</td><td>110</td><td>211</td><td>false</td><td>2</td><td>144</td><td>1</td><td>1.8</td><td>2</td><td>0.0</td><td>3.0</td><td>healthy</td></tr>\n",
       "\t<tr><td>58</td><td>0</td><td>1</td><td>150</td><td>283</td><td>true </td><td>2</td><td>162</td><td>0</td><td>1.0</td><td>1</td><td>0.0</td><td>3.0</td><td>healthy</td></tr>\n",
       "\t<tr><td>58</td><td>1</td><td>2</td><td>120</td><td>284</td><td>false</td><td>2</td><td>160</td><td>0</td><td>1.8</td><td>2</td><td>0.0</td><td>3.0</td><td>sick   </td></tr>\n",
       "\t<tr><td>⋮</td><td>⋮</td><td>⋮</td><td>⋮</td><td>⋮</td><td>⋮</td><td>⋮</td><td>⋮</td><td>⋮</td><td>⋮</td><td>⋮</td><td>⋮</td><td>⋮</td><td>⋮</td></tr>\n",
       "\t<tr><td>57</td><td>1</td><td>4</td><td>130</td><td>131</td><td>false</td><td>0</td><td>115</td><td>1</td><td>1.2</td><td>2</td><td>1.0</td><td>7.0</td><td>sick   </td></tr>\n",
       "\t<tr><td>57</td><td>0</td><td>2</td><td>130</td><td>236</td><td>false</td><td>2</td><td>174</td><td>0</td><td>0.0</td><td>2</td><td>1.0</td><td>3.0</td><td>sick   </td></tr>\n",
       "\t<tr><td>38</td><td>1</td><td>3</td><td>138</td><td>175</td><td>false</td><td>0</td><td>173</td><td>0</td><td>0.0</td><td>1</td><td>NA </td><td>3.0</td><td>healthy</td></tr>\n",
       "</tbody>\n",
       "</table>\n"
      ],
      "text/latex": [
       "A tibble: 283 × 14\n",
       "\\begin{tabular}{llllllllllllll}\n",
       " age & sex & chest\\_pain & resting\\_bp & cholesterol & fasting\\_blood\\_sugar & resting\\_electro & max\\_hr & ex\\_angina & oldpeak & slope & ca & thal & num\\\\\n",
       " <dbl> & <dbl> & <dbl> & <dbl> & <dbl> & <chr> & <dbl> & <dbl> & <dbl> & <dbl> & <dbl> & <chr> & <chr> & <fct>\\\\\n",
       "\\hline\n",
       "\t 64 & 1 & 1 & 110 & 211 & false & 2 & 144 & 1 & 1.8 & 2 & 0.0 & 3.0 & healthy\\\\\n",
       "\t 58 & 0 & 1 & 150 & 283 & true  & 2 & 162 & 0 & 1.0 & 1 & 0.0 & 3.0 & healthy\\\\\n",
       "\t 58 & 1 & 2 & 120 & 284 & false & 2 & 160 & 0 & 1.8 & 2 & 0.0 & 3.0 & sick   \\\\\n",
       "\t ⋮ & ⋮ & ⋮ & ⋮ & ⋮ & ⋮ & ⋮ & ⋮ & ⋮ & ⋮ & ⋮ & ⋮ & ⋮ & ⋮\\\\\n",
       "\t 57 & 1 & 4 & 130 & 131 & false & 0 & 115 & 1 & 1.2 & 2 & 1.0 & 7.0 & sick   \\\\\n",
       "\t 57 & 0 & 2 & 130 & 236 & false & 2 & 174 & 0 & 0.0 & 2 & 1.0 & 3.0 & sick   \\\\\n",
       "\t 38 & 1 & 3 & 138 & 175 & false & 0 & 173 & 0 & 0.0 & 1 & NA  & 3.0 & healthy\\\\\n",
       "\\end{tabular}\n"
      ],
      "text/markdown": [
       "\n",
       "A tibble: 283 × 14\n",
       "\n",
       "| age &lt;dbl&gt; | sex &lt;dbl&gt; | chest_pain &lt;dbl&gt; | resting_bp &lt;dbl&gt; | cholesterol &lt;dbl&gt; | fasting_blood_sugar &lt;chr&gt; | resting_electro &lt;dbl&gt; | max_hr &lt;dbl&gt; | ex_angina &lt;dbl&gt; | oldpeak &lt;dbl&gt; | slope &lt;dbl&gt; | ca &lt;chr&gt; | thal &lt;chr&gt; | num &lt;fct&gt; |\n",
       "|---|---|---|---|---|---|---|---|---|---|---|---|---|---|\n",
       "| 64 | 1 | 1 | 110 | 211 | false | 2 | 144 | 1 | 1.8 | 2 | 0.0 | 3.0 | healthy |\n",
       "| 58 | 0 | 1 | 150 | 283 | true  | 2 | 162 | 0 | 1.0 | 1 | 0.0 | 3.0 | healthy |\n",
       "| 58 | 1 | 2 | 120 | 284 | false | 2 | 160 | 0 | 1.8 | 2 | 0.0 | 3.0 | sick    |\n",
       "| ⋮ | ⋮ | ⋮ | ⋮ | ⋮ | ⋮ | ⋮ | ⋮ | ⋮ | ⋮ | ⋮ | ⋮ | ⋮ | ⋮ |\n",
       "| 57 | 1 | 4 | 130 | 131 | false | 0 | 115 | 1 | 1.2 | 2 | 1.0 | 7.0 | sick    |\n",
       "| 57 | 0 | 2 | 130 | 236 | false | 2 | 174 | 0 | 0.0 | 2 | 1.0 | 3.0 | sick    |\n",
       "| 38 | 1 | 3 | 138 | 175 | false | 0 | 173 | 0 | 0.0 | 1 | NA  | 3.0 | healthy |\n",
       "\n"
      ],
      "text/plain": [
       "    age sex chest_pain resting_bp cholesterol fasting_blood_sugar\n",
       "1   64  1   1          110        211         false              \n",
       "2   58  0   1          150        283         true               \n",
       "3   58  1   2          120        284         false              \n",
       "⋮   ⋮   ⋮   ⋮          ⋮          ⋮           ⋮                  \n",
       "281 57  1   4          130        131         false              \n",
       "282 57  0   2          130        236         false              \n",
       "283 38  1   3          138        175         false              \n",
       "    resting_electro max_hr ex_angina oldpeak slope ca  thal num    \n",
       "1   2               144    1         1.8     2     0.0 3.0  healthy\n",
       "2   2               162    0         1.0     1     0.0 3.0  healthy\n",
       "3   2               160    0         1.8     2     0.0 3.0  sick   \n",
       "⋮   ⋮               ⋮      ⋮         ⋮       ⋮     ⋮   ⋮    ⋮      \n",
       "281 0               115    1         1.2     2     1.0 7.0  sick   \n",
       "282 2               174    0         0.0     2     1.0 3.0  sick   \n",
       "283 0               173    0         0.0     1     NA  3.0  healthy"
      ]
     },
     "metadata": {},
     "output_type": "display_data"
    }
   ],
   "source": [
    "names(heart_disease_data) <- c(\"age\", \"sex\", \"chest_pain\", \"resting_bp\", \"cholesterol\", \"fasting_blood_sugar\", \"resting_electro\", \"max_hr\", \"ex_angina\", \"oldpeak\", \"slope\", \"ca\", \"thal\", \"num\")\n",
    "heart_disease_data <- heart_disease_data |>\n",
    "#mutate(sex = case_when(sex == 1 ~ \"male\" , sex == 0 ~ \"female\"))|>\n",
    "#mutate(chest_pain = case_when(chest_pain == 1 ~ \"typical angina\", chest_pain == 2 ~ \"atypical angina\", chest_pain == 3 ~ \"non-anginal pain\", chest_pain == 4 ~ \"asymptomatic\"))|>\n",
    "mutate(fasting_blood_sugar = case_when(fasting_blood_sugar == 1 ~ \"true\" , fasting_blood_sugar == 0 ~ \"false\"))|>\n",
    "#mutate(resting_electro = case_when(resting_electro == 0 ~ \"normal\", resting_electro == 1 ~ \"abnormal\", resting_electro == 2 ~ \"hypertrophy\"))|>\n",
    "#mutate(ex_angina = case_when(ex_angina == 1 ~ \"yes\" , ex_angina == 0 ~ \"no\"))|>\n",
    "#mutate(slope = case_when(slope == 1 ~ \"upsloping\", slope == 2 ~ \"flat\", slope == 3 ~ \"downsloping\"))|>\n",
    "#mutate(thal = case_when(thal == \"3.0\" ~ \"normal\", thal == \"6.0\" ~ \"fixed defect\", thal == \"7.0\" ~ \"reversable defect\"))|>\n",
    "mutate(num = case_when(num == 0 ~ \"healthy\" , num == 1 ~ \"sick\", num == 2 ~ \"sick\", num == 3 ~ \"sick\", num == 4 ~ \"sick\"))|>\n",
    "mutate(num = as_factor(num))\n",
    "heart_disease_data$ca[heart_disease_data$ca == \"?\"] <- NA\n",
    "heart_disease_data$thal[heart_disease_data$thal == \"?\"] <- NA\n",
    "heart_disease_data"
   ]
  },
  {
   "cell_type": "code",
   "execution_count": 22,
   "id": "0ab585c4-d05a-4fb7-8055-93c8e431d4a2",
   "metadata": {},
   "outputs": [
    {
     "data": {
      "text/html": [
       "<table class=\"dataframe\">\n",
       "<caption>A tibble: 283 × 8</caption>\n",
       "<thead>\n",
       "\t<tr><th scope=col>age</th><th scope=col>sex</th><th scope=col>max_hr</th><th scope=col>oldpeak</th><th scope=col>thal</th><th scope=col>chest_pain</th><th scope=col>ex_angina</th><th scope=col>num</th></tr>\n",
       "\t<tr><th scope=col>&lt;dbl&gt;</th><th scope=col>&lt;dbl&gt;</th><th scope=col>&lt;dbl&gt;</th><th scope=col>&lt;dbl&gt;</th><th scope=col>&lt;dbl&gt;</th><th scope=col>&lt;dbl&gt;</th><th scope=col>&lt;dbl&gt;</th><th scope=col>&lt;fct&gt;</th></tr>\n",
       "</thead>\n",
       "<tbody>\n",
       "\t<tr><td>64</td><td>1</td><td>144</td><td>1.8</td><td>3</td><td>1</td><td>1</td><td>healthy</td></tr>\n",
       "\t<tr><td>58</td><td>0</td><td>162</td><td>1.0</td><td>3</td><td>1</td><td>0</td><td>healthy</td></tr>\n",
       "\t<tr><td>58</td><td>1</td><td>160</td><td>1.8</td><td>3</td><td>2</td><td>0</td><td>sick   </td></tr>\n",
       "\t<tr><td>⋮</td><td>⋮</td><td>⋮</td><td>⋮</td><td>⋮</td><td>⋮</td><td>⋮</td><td>⋮</td></tr>\n",
       "\t<tr><td>57</td><td>1</td><td>115</td><td>1.2</td><td>7</td><td>4</td><td>1</td><td>sick   </td></tr>\n",
       "\t<tr><td>57</td><td>0</td><td>174</td><td>0.0</td><td>3</td><td>2</td><td>0</td><td>sick   </td></tr>\n",
       "\t<tr><td>38</td><td>1</td><td>173</td><td>0.0</td><td>3</td><td>3</td><td>0</td><td>healthy</td></tr>\n",
       "</tbody>\n",
       "</table>\n"
      ],
      "text/latex": [
       "A tibble: 283 × 8\n",
       "\\begin{tabular}{llllllll}\n",
       " age & sex & max\\_hr & oldpeak & thal & chest\\_pain & ex\\_angina & num\\\\\n",
       " <dbl> & <dbl> & <dbl> & <dbl> & <dbl> & <dbl> & <dbl> & <fct>\\\\\n",
       "\\hline\n",
       "\t 64 & 1 & 144 & 1.8 & 3 & 1 & 1 & healthy\\\\\n",
       "\t 58 & 0 & 162 & 1.0 & 3 & 1 & 0 & healthy\\\\\n",
       "\t 58 & 1 & 160 & 1.8 & 3 & 2 & 0 & sick   \\\\\n",
       "\t ⋮ & ⋮ & ⋮ & ⋮ & ⋮ & ⋮ & ⋮ & ⋮\\\\\n",
       "\t 57 & 1 & 115 & 1.2 & 7 & 4 & 1 & sick   \\\\\n",
       "\t 57 & 0 & 174 & 0.0 & 3 & 2 & 0 & sick   \\\\\n",
       "\t 38 & 1 & 173 & 0.0 & 3 & 3 & 0 & healthy\\\\\n",
       "\\end{tabular}\n"
      ],
      "text/markdown": [
       "\n",
       "A tibble: 283 × 8\n",
       "\n",
       "| age &lt;dbl&gt; | sex &lt;dbl&gt; | max_hr &lt;dbl&gt; | oldpeak &lt;dbl&gt; | thal &lt;dbl&gt; | chest_pain &lt;dbl&gt; | ex_angina &lt;dbl&gt; | num &lt;fct&gt; |\n",
       "|---|---|---|---|---|---|---|---|\n",
       "| 64 | 1 | 144 | 1.8 | 3 | 1 | 1 | healthy |\n",
       "| 58 | 0 | 162 | 1.0 | 3 | 1 | 0 | healthy |\n",
       "| 58 | 1 | 160 | 1.8 | 3 | 2 | 0 | sick    |\n",
       "| ⋮ | ⋮ | ⋮ | ⋮ | ⋮ | ⋮ | ⋮ | ⋮ |\n",
       "| 57 | 1 | 115 | 1.2 | 7 | 4 | 1 | sick    |\n",
       "| 57 | 0 | 174 | 0.0 | 3 | 2 | 0 | sick    |\n",
       "| 38 | 1 | 173 | 0.0 | 3 | 3 | 0 | healthy |\n",
       "\n"
      ],
      "text/plain": [
       "    age sex max_hr oldpeak thal chest_pain ex_angina num    \n",
       "1   64  1   144    1.8     3    1          1         healthy\n",
       "2   58  0   162    1.0     3    1          0         healthy\n",
       "3   58  1   160    1.8     3    2          0         sick   \n",
       "⋮   ⋮   ⋮   ⋮      ⋮       ⋮    ⋮          ⋮         ⋮      \n",
       "281 57  1   115    1.2     7    4          1         sick   \n",
       "282 57  0   174    0.0     3    2          0         sick   \n",
       "283 38  1   173    0.0     3    3          0         healthy"
      ]
     },
     "metadata": {},
     "output_type": "display_data"
    }
   ],
   "source": [
    "heart_clean <- heart_disease_data |>\n",
    "select(\"age\", \"sex\", \"max_hr\", \"oldpeak\", \"thal\", \"chest_pain\", \"ex_angina\", \"num\")|>\n",
    "mutate(thal = as.numeric(thal))\n",
    "heart_clean"
   ]
  },
  {
   "cell_type": "code",
   "execution_count": 23,
   "id": "356a2b1e-ee9a-4b48-9c30-cb1082f0a7d0",
   "metadata": {},
   "outputs": [
    {
     "data": {
      "text/html": [
       "<table class=\"dataframe\">\n",
       "<caption>A tibble: 283 × 8</caption>\n",
       "<thead>\n",
       "\t<tr><th scope=col>age</th><th scope=col>sex</th><th scope=col>max_hr</th><th scope=col>oldpeak</th><th scope=col>thal</th><th scope=col>chest_pain</th><th scope=col>ex_angina</th><th scope=col>num</th></tr>\n",
       "\t<tr><th scope=col>&lt;dbl&gt;</th><th scope=col>&lt;dbl&gt;</th><th scope=col>&lt;dbl&gt;</th><th scope=col>&lt;dbl&gt;</th><th scope=col>&lt;dbl&gt;</th><th scope=col>&lt;dbl&gt;</th><th scope=col>&lt;dbl&gt;</th><th scope=col>&lt;fct&gt;</th></tr>\n",
       "</thead>\n",
       "<tbody>\n",
       "\t<tr><td>1.0486401</td><td> 0.6928011</td><td>-0.2203456</td><td> 0.67577755</td><td>-0.8943785</td><td>-2.260153</td><td> 1.4154623</td><td>healthy</td></tr>\n",
       "\t<tr><td>0.3901376</td><td>-1.4383153</td><td> 0.5591270</td><td>-0.01153618</td><td>-0.8943785</td><td>-2.260153</td><td>-0.7039865</td><td>healthy</td></tr>\n",
       "\t<tr><td>0.3901376</td><td> 0.6928011</td><td> 0.4725189</td><td> 0.67577755</td><td>-0.8943785</td><td>-1.218421</td><td>-0.7039865</td><td>sick   </td></tr>\n",
       "\t<tr><td>⋮</td><td>⋮</td><td>⋮</td><td>⋮</td><td>⋮</td><td>⋮</td><td>⋮</td><td>⋮</td></tr>\n",
       "\t<tr><td> 0.2803871</td><td> 0.6928011</td><td>-1.476163</td><td> 0.1602922</td><td> 1.1614117</td><td> 0.8650424</td><td> 1.4154623</td><td>sick   </td></tr>\n",
       "\t<tr><td> 0.2803871</td><td>-1.4383153</td><td> 1.078775</td><td>-0.8706784</td><td>-0.8943785</td><td>-1.2184214</td><td>-0.7039865</td><td>sick   </td></tr>\n",
       "\t<tr><td>-1.8048710</td><td> 0.6928011</td><td> 1.035471</td><td>-0.8706784</td><td>-0.8943785</td><td>-0.1766895</td><td>-0.7039865</td><td>healthy</td></tr>\n",
       "</tbody>\n",
       "</table>\n"
      ],
      "text/latex": [
       "A tibble: 283 × 8\n",
       "\\begin{tabular}{llllllll}\n",
       " age & sex & max\\_hr & oldpeak & thal & chest\\_pain & ex\\_angina & num\\\\\n",
       " <dbl> & <dbl> & <dbl> & <dbl> & <dbl> & <dbl> & <dbl> & <fct>\\\\\n",
       "\\hline\n",
       "\t 1.0486401 &  0.6928011 & -0.2203456 &  0.67577755 & -0.8943785 & -2.260153 &  1.4154623 & healthy\\\\\n",
       "\t 0.3901376 & -1.4383153 &  0.5591270 & -0.01153618 & -0.8943785 & -2.260153 & -0.7039865 & healthy\\\\\n",
       "\t 0.3901376 &  0.6928011 &  0.4725189 &  0.67577755 & -0.8943785 & -1.218421 & -0.7039865 & sick   \\\\\n",
       "\t ⋮ & ⋮ & ⋮ & ⋮ & ⋮ & ⋮ & ⋮ & ⋮\\\\\n",
       "\t  0.2803871 &  0.6928011 & -1.476163 &  0.1602922 &  1.1614117 &  0.8650424 &  1.4154623 & sick   \\\\\n",
       "\t  0.2803871 & -1.4383153 &  1.078775 & -0.8706784 & -0.8943785 & -1.2184214 & -0.7039865 & sick   \\\\\n",
       "\t -1.8048710 &  0.6928011 &  1.035471 & -0.8706784 & -0.8943785 & -0.1766895 & -0.7039865 & healthy\\\\\n",
       "\\end{tabular}\n"
      ],
      "text/markdown": [
       "\n",
       "A tibble: 283 × 8\n",
       "\n",
       "| age &lt;dbl&gt; | sex &lt;dbl&gt; | max_hr &lt;dbl&gt; | oldpeak &lt;dbl&gt; | thal &lt;dbl&gt; | chest_pain &lt;dbl&gt; | ex_angina &lt;dbl&gt; | num &lt;fct&gt; |\n",
       "|---|---|---|---|---|---|---|---|\n",
       "| 1.0486401 |  0.6928011 | -0.2203456 |  0.67577755 | -0.8943785 | -2.260153 |  1.4154623 | healthy |\n",
       "| 0.3901376 | -1.4383153 |  0.5591270 | -0.01153618 | -0.8943785 | -2.260153 | -0.7039865 | healthy |\n",
       "| 0.3901376 |  0.6928011 |  0.4725189 |  0.67577755 | -0.8943785 | -1.218421 | -0.7039865 | sick    |\n",
       "| ⋮ | ⋮ | ⋮ | ⋮ | ⋮ | ⋮ | ⋮ | ⋮ |\n",
       "|  0.2803871 |  0.6928011 | -1.476163 |  0.1602922 |  1.1614117 |  0.8650424 |  1.4154623 | sick    |\n",
       "|  0.2803871 | -1.4383153 |  1.078775 | -0.8706784 | -0.8943785 | -1.2184214 | -0.7039865 | sick    |\n",
       "| -1.8048710 |  0.6928011 |  1.035471 | -0.8706784 | -0.8943785 | -0.1766895 | -0.7039865 | healthy |\n",
       "\n"
      ],
      "text/plain": [
       "    age        sex        max_hr     oldpeak     thal       chest_pain\n",
       "1   1.0486401   0.6928011 -0.2203456  0.67577755 -0.8943785 -2.260153 \n",
       "2   0.3901376  -1.4383153  0.5591270 -0.01153618 -0.8943785 -2.260153 \n",
       "3   0.3901376   0.6928011  0.4725189  0.67577755 -0.8943785 -1.218421 \n",
       "⋮   ⋮          ⋮          ⋮          ⋮           ⋮          ⋮         \n",
       "281  0.2803871  0.6928011 -1.476163   0.1602922   1.1614117  0.8650424\n",
       "282  0.2803871 -1.4383153  1.078775  -0.8706784  -0.8943785 -1.2184214\n",
       "283 -1.8048710  0.6928011  1.035471  -0.8706784  -0.8943785 -0.1766895\n",
       "    ex_angina  num    \n",
       "1    1.4154623 healthy\n",
       "2   -0.7039865 healthy\n",
       "3   -0.7039865 sick   \n",
       "⋮   ⋮          ⋮      \n",
       "281  1.4154623 sick   \n",
       "282 -0.7039865 sick   \n",
       "283 -0.7039865 healthy"
      ]
     },
     "metadata": {},
     "output_type": "display_data"
    }
   ],
   "source": [
    "scaled_recipe <- recipe(num ~ ., data = heart_clean)|>\n",
    "    step_scale(all_predictors()) |>\n",
    "    step_center(all_predictors())\n",
    "\n",
    "heart_data_scaled <- scaled_recipe |>  \n",
    "    prep() |> \n",
    "    bake(heart_clean)\n",
    "heart_data_scaled"
   ]
  },
  {
   "cell_type": "code",
   "execution_count": 24,
   "id": "5f119c1d-28f1-435d-a888-a4df4c5d8684",
   "metadata": {},
   "outputs": [],
   "source": [
    "heart_disease_split <- initial_split(heart_data_scaled, prop = 0.75, strata = num)\n",
    "heart_disease_train <- training(heart_disease_split)\n",
    "heart_disease_test <- testing(heart_disease_split)"
   ]
  },
  {
   "cell_type": "code",
   "execution_count": 25,
   "id": "15ae3141-8d84-4173-891d-77c54b60b983",
   "metadata": {},
   "outputs": [
    {
     "name": "stderr",
     "output_type": "stream",
     "text": [
      "\u001b[1m\u001b[22m`summarise()` has grouped output by 'num'. You can override using the `.groups`\n",
      "argument.\n"
     ]
    },
    {
     "data": {
      "text/html": [
       "<table class=\"dataframe\">\n",
       "<caption>A grouped_df: 4 × 7</caption>\n",
       "<thead>\n",
       "\t<tr><th scope=col>num</th><th scope=col>sex</th><th scope=col>oldpeak</th><th scope=col>max_hr</th><th scope=col>thal</th><th scope=col>chest_pain</th><th scope=col>ex_angina</th></tr>\n",
       "\t<tr><th scope=col>&lt;fct&gt;</th><th scope=col>&lt;dbl&gt;</th><th scope=col>&lt;dbl&gt;</th><th scope=col>&lt;dbl&gt;</th><th scope=col>&lt;dbl&gt;</th><th scope=col>&lt;dbl&gt;</th><th scope=col>&lt;dbl&gt;</th></tr>\n",
       "</thead>\n",
       "<tbody>\n",
       "\t<tr><td>healthy</td><td>-1.4383153</td><td>-0.3940976</td><td> 0.1644884</td><td>-0.8153096</td><td>-0.2749661</td><td>-0.4240593</td></tr>\n",
       "\t<tr><td>healthy</td><td> 0.6928011</td><td>-0.3766716</td><td> 0.5042752</td><td>-0.2176809</td><td>-0.5065713</td><td>-0.3507451</td></tr>\n",
       "\t<tr><td>sick   </td><td>-1.4383153</td><td> 0.6959927</td><td>-0.3604469</td><td> 0.2846777</td><td> 0.6812073</td><td> 0.5427481</td></tr>\n",
       "\t<tr><td>sick   </td><td> 0.6928011</td><td> 0.3363116</td><td>-0.4109890</td><td> 0.7172595</td><td> 0.3695845</td><td> 0.5108195</td></tr>\n",
       "</tbody>\n",
       "</table>\n"
      ],
      "text/latex": [
       "A grouped\\_df: 4 × 7\n",
       "\\begin{tabular}{lllllll}\n",
       " num & sex & oldpeak & max\\_hr & thal & chest\\_pain & ex\\_angina\\\\\n",
       " <fct> & <dbl> & <dbl> & <dbl> & <dbl> & <dbl> & <dbl>\\\\\n",
       "\\hline\n",
       "\t healthy & -1.4383153 & -0.3940976 &  0.1644884 & -0.8153096 & -0.2749661 & -0.4240593\\\\\n",
       "\t healthy &  0.6928011 & -0.3766716 &  0.5042752 & -0.2176809 & -0.5065713 & -0.3507451\\\\\n",
       "\t sick    & -1.4383153 &  0.6959927 & -0.3604469 &  0.2846777 &  0.6812073 &  0.5427481\\\\\n",
       "\t sick    &  0.6928011 &  0.3363116 & -0.4109890 &  0.7172595 &  0.3695845 &  0.5108195\\\\\n",
       "\\end{tabular}\n"
      ],
      "text/markdown": [
       "\n",
       "A grouped_df: 4 × 7\n",
       "\n",
       "| num &lt;fct&gt; | sex &lt;dbl&gt; | oldpeak &lt;dbl&gt; | max_hr &lt;dbl&gt; | thal &lt;dbl&gt; | chest_pain &lt;dbl&gt; | ex_angina &lt;dbl&gt; |\n",
       "|---|---|---|---|---|---|---|\n",
       "| healthy | -1.4383153 | -0.3940976 |  0.1644884 | -0.8153096 | -0.2749661 | -0.4240593 |\n",
       "| healthy |  0.6928011 | -0.3766716 |  0.5042752 | -0.2176809 | -0.5065713 | -0.3507451 |\n",
       "| sick    | -1.4383153 |  0.6959927 | -0.3604469 |  0.2846777 |  0.6812073 |  0.5427481 |\n",
       "| sick    |  0.6928011 |  0.3363116 | -0.4109890 |  0.7172595 |  0.3695845 |  0.5108195 |\n",
       "\n"
      ],
      "text/plain": [
       "  num     sex        oldpeak    max_hr     thal       chest_pain ex_angina \n",
       "1 healthy -1.4383153 -0.3940976  0.1644884 -0.8153096 -0.2749661 -0.4240593\n",
       "2 healthy  0.6928011 -0.3766716  0.5042752 -0.2176809 -0.5065713 -0.3507451\n",
       "3 sick    -1.4383153  0.6959927 -0.3604469  0.2846777  0.6812073  0.5427481\n",
       "4 sick     0.6928011  0.3363116 -0.4109890  0.7172595  0.3695845  0.5108195"
      ]
     },
     "metadata": {},
     "output_type": "display_data"
    }
   ],
   "source": [
    "heart_disease_table <- heart_disease_train |>\n",
    "group_by(num, sex)|>\n",
    "summarize(oldpeak = mean(oldpeak),\n",
    "    max_hr = mean(max_hr),\n",
    "    thal = mean(thal, na.rm = TRUE),\n",
    "    chest_pain = mean(chest_pain, na.rm = TRUE),\n",
    "    #resting_electro = mean(resting_electro, na.rm = TRUE), \n",
    "    ex_angina = mean(ex_angina, na.rm = TRUE))\n",
    "heart_disease_table"
   ]
  },
  {
   "cell_type": "code",
   "execution_count": 26,
   "id": "8d711f4d-d80c-41ad-a31b-adbb0b3aa2da",
   "metadata": {},
   "outputs": [
    {
     "name": "stderr",
     "output_type": "stream",
     "text": [
      "\u001b[31mx\u001b[39m \u001b[31mFold3: preprocessor 1/1, model 1/1 (predictions):\n",
      "  \u001b[1m\u001b[33mError\u001b[31m in \u001b[1m\u001b[1m`mutate()`:\u001b[22m\n",
      "  \u001b[1m\u001b[22m\u001b[33m!\u001b[31m Problem while computing `.row = orig_rows`.\n",
      "  \u001b[31m✖\u001b[31m `.row` must be size 41 or 1, not 43.\u001b[39m\n",
      "\n",
      "\u001b[31mx\u001b[39m \u001b[31mFold3: preprocessor 1/1, model 1/1 (predictions):\n",
      "  \u001b[1m\u001b[33mError\u001b[31m in \u001b[1m\u001b[1m`mutate()`:\u001b[22m\n",
      "  \u001b[1m\u001b[22m\u001b[33m!\u001b[31m Problem while computing `.row = orig_rows`.\n",
      "  \u001b[31m✖\u001b[31m `.row` must be size 41 or 1, not 43.\u001b[39m\n",
      "\n"
     ]
    },
    {
     "data": {
      "image/png": "[encoded data removed]",
      "text/plain": [
       "plot without title"
      ]
     },
     "metadata": {
      "image/png": {
       "height": 420,
       "width": 420
      }
     },
     "output_type": "display_data"
    }
   ],
   "source": [
    "set.seed(2019) \n",
    "\n",
    "knn_tune <- nearest_neighbor(weight_func = \"rectangular\", neighbors = tune()) |>\n",
    "    set_engine(\"kknn\") |>\n",
    "    set_mode(\"classification\")\n",
    "\n",
    "training_recipe <- recipe(num ~ ., data = heart_disease_train)\n",
    "\n",
    "training_vfold <- vfold_cv(heart_disease_train, v = 5, strata = num)\n",
    "\n",
    "knn_spec <- nearest_neighbor(weight_func = \"rectangular\", neighbors = 4) |>\n",
    "    set_engine(\"kknn\") |>\n",
    "    set_mode(\"classification\")\n",
    "\n",
    "training_resample_fit <- workflow() |>\n",
    "    add_recipe(training_recipe) |>\n",
    "    add_model(knn_spec) |>\n",
    "    fit_resamples(resamples = training_vfold)\n",
    "\n",
    "grid_frame <- tibble(neighbors = (c(1,2,3,4,5,6,7,8,9,10)))\n",
    "\n",
    "knn_results <- workflow() |>\n",
    "    add_recipe(training_recipe) |>\n",
    "    add_model(knn_tune) |>\n",
    "    tune_grid(resamples = training_vfold, grid = grid_frame) |>\n",
    "    collect_metrics()\n",
    "\n",
    "accuracies <- knn_results |> \n",
    "    filter(.metric == \"accuracy\")\n",
    "\n",
    "cross_val_plot <- ggplot(accuracies, aes(x = neighbors, y = mean))+\n",
    "    geom_point() +\n",
    "    geom_line() +\n",
    "    labs(x = \"Neighbors\", y = \"Accuracy Estimate\") +\n",
    "    scale_x_continuous(breaks = seq(0, 10, by = 1))+\n",
    "    theme(text = element_text(size = 20))\n",
    "cross_val_plot"
   ]
  },
  {
   "cell_type": "code",
   "execution_count": 27,
   "id": "d506c139-2f5c-48e8-b276-e1d9a51dfecf",
   "metadata": {},
   "outputs": [
    {
     "data": {
      "text/plain": [
       "══ Workflow [trained] ══════════════════════════════════════════════════════════\n",
       "\u001b[3mPreprocessor:\u001b[23m Recipe\n",
       "\u001b[3mModel:\u001b[23m nearest_neighbor()\n",
       "\n",
       "── Preprocessor ────────────────────────────────────────────────────────────────\n",
       "0 Recipe Steps\n",
       "\n",
       "── Model ───────────────────────────────────────────────────────────────────────\n",
       "\n",
       "Call:\n",
       "kknn::train.kknn(formula = ..y ~ ., data = data, ks = min_rows(5,     data, 5), kernel = ~\"rectangular\")\n",
       "\n",
       "Type of response variable: nominal\n",
       "Minimal misclassification: 0.2047619\n",
       "Best kernel: rectangular\n",
       "Best k: 5"
      ]
     },
     "metadata": {},
     "output_type": "display_data"
    }
   ],
   "source": [
    "set.seed(2019) \n",
    "\n",
    "heart_spec <- nearest_neighbor(weight_func = \"rectangular\", neighbors = 5) |>\n",
    "    set_engine(\"kknn\") |>\n",
    "    set_mode(\"classification\")\n",
    "\n",
    "heart_fit <- workflow() |>\n",
    "    add_recipe(training_recipe) |>\n",
    "    add_model(heart_spec) |>\n",
    "    fit(data = heart_disease_train)\n",
    "heart_fit"
   ]
  },
  {
   "cell_type": "code",
   "execution_count": 28,
   "id": "de510d11-256e-4bc8-8dcc-3f3f82388c61",
   "metadata": {},
   "outputs": [
    {
     "data": {
      "text/html": [
       "<table class=\"dataframe\">\n",
       "<caption>A tibble: 71 × 9</caption>\n",
       "<thead>\n",
       "\t<tr><th scope=col>.pred_class</th><th scope=col>age</th><th scope=col>sex</th><th scope=col>max_hr</th><th scope=col>oldpeak</th><th scope=col>thal</th><th scope=col>chest_pain</th><th scope=col>ex_angina</th><th scope=col>num</th></tr>\n",
       "\t<tr><th scope=col>&lt;fct&gt;</th><th scope=col>&lt;dbl&gt;</th><th scope=col>&lt;dbl&gt;</th><th scope=col>&lt;dbl&gt;</th><th scope=col>&lt;dbl&gt;</th><th scope=col>&lt;dbl&gt;</th><th scope=col>&lt;dbl&gt;</th><th scope=col>&lt;dbl&gt;</th><th scope=col>&lt;fct&gt;</th></tr>\n",
       "</thead>\n",
       "<tbody>\n",
       "\t<tr><td>healthy</td><td> 0.3901376</td><td>0.6928011</td><td>0.4725189</td><td> 0.6757775</td><td>-0.8943785</td><td>-1.2184214</td><td>-0.7039865</td><td>sick   </td></tr>\n",
       "\t<tr><td>healthy</td><td>-1.1463684</td><td>0.6928011</td><td>1.2952956</td><td>-0.5270215</td><td>-0.8943785</td><td>-0.1766895</td><td> 1.4154623</td><td>healthy</td></tr>\n",
       "\t<tr><td>healthy</td><td>-1.5853701</td><td>0.6928011</td><td>1.2519916</td><td> 0.3321207</td><td> 1.1614117</td><td>-2.2601533</td><td> 1.4154623</td><td>healthy</td></tr>\n",
       "\t<tr><td>⋮</td><td>⋮</td><td>⋮</td><td>⋮</td><td>⋮</td><td>⋮</td><td>⋮</td><td>⋮</td><td>⋮</td></tr>\n",
       "\t<tr><td>healthy</td><td>-0.8171171</td><td> 0.6928011</td><td> 1.2952956</td><td>-0.8706784</td><td>-0.8943785</td><td>-0.1766895</td><td>-0.7039865</td><td>healthy</td></tr>\n",
       "\t<tr><td>sick   </td><td> 0.3901376</td><td> 0.6928011</td><td>-0.3935618</td><td> 2.9095472</td><td> 0.6474642</td><td> 0.8650424</td><td>-0.7039865</td><td>sick   </td></tr>\n",
       "\t<tr><td>sick   </td><td> 0.2803871</td><td>-1.4383153</td><td>-1.1297304</td><td>-0.6988499</td><td> 1.1614117</td><td> 0.8650424</td><td> 1.4154623</td><td>sick   </td></tr>\n",
       "</tbody>\n",
       "</table>\n"
      ],
      "text/latex": [
       "A tibble: 71 × 9\n",
       "\\begin{tabular}{lllllllll}\n",
       " .pred\\_class & age & sex & max\\_hr & oldpeak & thal & chest\\_pain & ex\\_angina & num\\\\\n",
       " <fct> & <dbl> & <dbl> & <dbl> & <dbl> & <dbl> & <dbl> & <dbl> & <fct>\\\\\n",
       "\\hline\n",
       "\t healthy &  0.3901376 & 0.6928011 & 0.4725189 &  0.6757775 & -0.8943785 & -1.2184214 & -0.7039865 & sick   \\\\\n",
       "\t healthy & -1.1463684 & 0.6928011 & 1.2952956 & -0.5270215 & -0.8943785 & -0.1766895 &  1.4154623 & healthy\\\\\n",
       "\t healthy & -1.5853701 & 0.6928011 & 1.2519916 &  0.3321207 &  1.1614117 & -2.2601533 &  1.4154623 & healthy\\\\\n",
       "\t ⋮ & ⋮ & ⋮ & ⋮ & ⋮ & ⋮ & ⋮ & ⋮ & ⋮\\\\\n",
       "\t healthy & -0.8171171 &  0.6928011 &  1.2952956 & -0.8706784 & -0.8943785 & -0.1766895 & -0.7039865 & healthy\\\\\n",
       "\t sick    &  0.3901376 &  0.6928011 & -0.3935618 &  2.9095472 &  0.6474642 &  0.8650424 & -0.7039865 & sick   \\\\\n",
       "\t sick    &  0.2803871 & -1.4383153 & -1.1297304 & -0.6988499 &  1.1614117 &  0.8650424 &  1.4154623 & sick   \\\\\n",
       "\\end{tabular}\n"
      ],
      "text/markdown": [
       "\n",
       "A tibble: 71 × 9\n",
       "\n",
       "| .pred_class &lt;fct&gt; | age &lt;dbl&gt; | sex &lt;dbl&gt; | max_hr &lt;dbl&gt; | oldpeak &lt;dbl&gt; | thal &lt;dbl&gt; | chest_pain &lt;dbl&gt; | ex_angina &lt;dbl&gt; | num &lt;fct&gt; |\n",
       "|---|---|---|---|---|---|---|---|---|\n",
       "| healthy |  0.3901376 | 0.6928011 | 0.4725189 |  0.6757775 | -0.8943785 | -1.2184214 | -0.7039865 | sick    |\n",
       "| healthy | -1.1463684 | 0.6928011 | 1.2952956 | -0.5270215 | -0.8943785 | -0.1766895 |  1.4154623 | healthy |\n",
       "| healthy | -1.5853701 | 0.6928011 | 1.2519916 |  0.3321207 |  1.1614117 | -2.2601533 |  1.4154623 | healthy |\n",
       "| ⋮ | ⋮ | ⋮ | ⋮ | ⋮ | ⋮ | ⋮ | ⋮ | ⋮ |\n",
       "| healthy | -0.8171171 |  0.6928011 |  1.2952956 | -0.8706784 | -0.8943785 | -0.1766895 | -0.7039865 | healthy |\n",
       "| sick    |  0.3901376 |  0.6928011 | -0.3935618 |  2.9095472 |  0.6474642 |  0.8650424 | -0.7039865 | sick    |\n",
       "| sick    |  0.2803871 | -1.4383153 | -1.1297304 | -0.6988499 |  1.1614117 |  0.8650424 |  1.4154623 | sick    |\n",
       "\n"
      ],
      "text/plain": [
       "   .pred_class age        sex        max_hr     oldpeak    thal      \n",
       "1  healthy      0.3901376 0.6928011  0.4725189   0.6757775 -0.8943785\n",
       "2  healthy     -1.1463684 0.6928011  1.2952956  -0.5270215 -0.8943785\n",
       "3  healthy     -1.5853701 0.6928011  1.2519916   0.3321207  1.1614117\n",
       "⋮  ⋮           ⋮          ⋮          ⋮          ⋮          ⋮         \n",
       "69 healthy     -0.8171171  0.6928011  1.2952956 -0.8706784 -0.8943785\n",
       "70 sick         0.3901376  0.6928011 -0.3935618  2.9095472  0.6474642\n",
       "71 sick         0.2803871 -1.4383153 -1.1297304 -0.6988499  1.1614117\n",
       "   chest_pain ex_angina  num    \n",
       "1  -1.2184214 -0.7039865 sick   \n",
       "2  -0.1766895  1.4154623 healthy\n",
       "3  -2.2601533  1.4154623 healthy\n",
       "⋮  ⋮          ⋮          ⋮      \n",
       "69 -0.1766895 -0.7039865 healthy\n",
       "70  0.8650424 -0.7039865 sick   \n",
       "71  0.8650424  1.4154623 sick   "
      ]
     },
     "metadata": {},
     "output_type": "display_data"
    },
    {
     "data": {
      "text/html": [
       "<table class=\"dataframe\">\n",
       "<caption>A tibble: 2 × 3</caption>\n",
       "<thead>\n",
       "\t<tr><th scope=col>.metric</th><th scope=col>.estimator</th><th scope=col>.estimate</th></tr>\n",
       "\t<tr><th scope=col>&lt;chr&gt;</th><th scope=col>&lt;chr&gt;</th><th scope=col>&lt;dbl&gt;</th></tr>\n",
       "</thead>\n",
       "<tbody>\n",
       "\t<tr><td>accuracy</td><td>binary</td><td>0.8169014</td></tr>\n",
       "\t<tr><td>kap     </td><td>binary</td><td>0.6297633</td></tr>\n",
       "</tbody>\n",
       "</table>\n"
      ],
      "text/latex": [
       "A tibble: 2 × 3\n",
       "\\begin{tabular}{lll}\n",
       " .metric & .estimator & .estimate\\\\\n",
       " <chr> & <chr> & <dbl>\\\\\n",
       "\\hline\n",
       "\t accuracy & binary & 0.8169014\\\\\n",
       "\t kap      & binary & 0.6297633\\\\\n",
       "\\end{tabular}\n"
      ],
      "text/markdown": [
       "\n",
       "A tibble: 2 × 3\n",
       "\n",
       "| .metric &lt;chr&gt; | .estimator &lt;chr&gt; | .estimate &lt;dbl&gt; |\n",
       "|---|---|---|\n",
       "| accuracy | binary | 0.8169014 |\n",
       "| kap      | binary | 0.6297633 |\n",
       "\n"
      ],
      "text/plain": [
       "  .metric  .estimator .estimate\n",
       "1 accuracy binary     0.8169014\n",
       "2 kap      binary     0.6297633"
      ]
     },
     "metadata": {},
     "output_type": "display_data"
    },
    {
     "data": {
      "text/plain": [
       "          Truth\n",
       "Prediction healthy sick\n",
       "   healthy      33    8\n",
       "   sick          5   25"
      ]
     },
     "metadata": {},
     "output_type": "display_data"
    }
   ],
   "source": [
    "set.seed(2019) \n",
    "\n",
    "heart_predictions <- predict(heart_fit , heart_disease_test) |>\n",
    "    bind_cols(heart_disease_test)\n",
    "heart_predictions\n",
    "\n",
    "heart_metrics <- heart_predictions |>\n",
    "    metrics(truth = num, estimate = .pred_class)             \n",
    "heart_metrics\n",
    "\n",
    "heart_conf_mat <- heart_predictions |> \n",
    "    conf_mat(truth = num, estimate = .pred_class)\n",
    "heart_conf_mat"
   ]
  },
  {
   "cell_type": "code",
   "execution_count": null,
   "id": "c35aa0d5-f216-4c5a-bdd8-581c8a09bc84",
   "metadata": {},
   "outputs": [],
   "source": []
  }
 ],
 "metadata": {
  "kernelspec": {
   "display_name": "R",
   "language": "R",
   "name": "ir"
  },
  "language_info": {
   "codemirror_mode": "r",
   "file_extension": ".r",
   "mimetype": "text/x-r-source",
   "name": "R",
   "pygments_lexer": "r",
   "version": "4.1.3"
  }
 },
 "nbformat": 4,
 "nbformat_minor": 5
}
